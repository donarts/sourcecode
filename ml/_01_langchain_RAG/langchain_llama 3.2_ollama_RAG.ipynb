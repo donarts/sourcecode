{
 "cells": [
  {
   "cell_type": "markdown",
   "id": "9e1d5e9f-258a-4627-b345-e3c717abeace",
   "metadata": {},
   "source": [
    "## https://python.langchain.com/docs/tutorials/local_rag/"
   ]
  },
  {
   "cell_type": "code",
   "execution_count": 1,
   "id": "e348797c-70bb-4904-8ca2-bfa3b7fc1e14",
   "metadata": {
    "scrolled": true
   },
   "outputs": [],
   "source": [
    "from langchain.prompts import PromptTemplate\n",
    "from langchain_core.output_parsers import StrOutputParser\n",
    "from langchain_ollama import OllamaLLM"
   ]
  },
  {
   "cell_type": "code",
   "execution_count": 2,
   "id": "a7bf7fdd-20f1-460a-b061-be1a9ec0cdf4",
   "metadata": {},
   "outputs": [
    {
     "name": "stdout",
     "output_type": "stream",
     "text": [
      "부산\n"
     ]
    }
   ],
   "source": [
    "# 기본 예제\n",
    "llm = OllamaLLM(model=\"llama3.2:latest\")\n",
    "\n",
    "\n",
    "template = \"{country}의 수도는?\"\n",
    "\n",
    "prompt = PromptTemplate.from_template(template=template)\n",
    "chain = prompt | llm | StrOutputParser()\n",
    "\n",
    "result = chain.invoke({\"country\", \"한국\"})\n",
    "print(result)"
   ]
  },
  {
   "cell_type": "code",
   "execution_count": 3,
   "id": "f2d8bc75-48a0-450c-bfe3-cf18088f0259",
   "metadata": {},
   "outputs": [
    {
     "name": "stdout",
     "output_type": "stream",
     "text": [
      "Chunk 1:앤제 포스테코글루 감독의 말과 행동은 달랐다.\n",
      "\n",
      "토트넘은 10일 오후 11시(한국시간) 영국 런던에 위치한 토트넘 훗스퍼 스타디움에서 열린 2024-25시즌 프리미어리그(PL) 11라운드에서 입스위치 타운에 1-2로 패배했다. 이로써 토트넘은 공식전 2연패에 빠졌고, 리그 10위까지 추락했다. 입스위치는 리그 11경기 만에 첫 승을 얻었다.\n",
      "\n",
      "경기 전 가장 화두에 오른 주제는 '손흥민 몸 상태 관리'였다. 토트넘은 '손흥민 부상'으로 고단한 한 달을 겪었다. 손흥민은 9월 말 유럽축구연맹(UEFA) 유로파리그(UEL) 카라바흐전에서 햄스트링 부상을 당했다. 이후 약 3주간 긴 재활을 거쳐 복귀했지만, 한 경기만에 또 다시 제외됐다. 결국 또 다시 회복기를 거쳐 지난 아스톤 빌라전에서 복귀했다. 포스테코글루 감독은 후반 11분 손흥민을 빼며 그의 몸 상태를 신중하게 관리했다.\n",
      "\n",
      "Chunk 2:이후 포스테코글루 감독은 한국 국가대표팀과의 협력을 원했다. 포스테코글루 감독은 글로벌 매체 'ESPN'과의 인터뷰에서 \"나는 국가대표팀 감독과 그들의 계획에 관여하는 것을 주저하는 편이다. 나 역시 호주 대표팀 감독이었을 때, 구단 감독들이 내게 어떻게 하라고 지시하는 것을 좋아하지 않았다\"며 조심스러운 입장을 밝혔다.\n",
      "\n",
      "이어 포스테코글루 감독은 \"그러나 상호 협력적인 접근이 있을 것이라 생각하고 싶다. 손흥민이 구단과 대표팀에서 최근 어떠한 일정을 겪었는지 함께 살펴보고 있다고 생각한다. 우리는 신체적으로 건강하고 좋은 컨디션인 손흥민이 필요하다. 그래야만 손흥민이 기여할 수 있다. 그러한 맥락에서 나는 구단과 대표팀 모두 긍정적인 결과를 얻을 것이라 확신한다\"고 덧붙였다.\n",
      "\n",
      "Chunk 3:손흥민의 나이와 체력을 고려해, 양측 모두 신중하게 관리하자는 이야기였다. 그러나 포스테코글루 감독은 단 하루 만에 말과 행동이 다른 모습을 보였다. 손흥민은 입스위치전 선발 출전했다. 손흥민은 전반 초반부터 활발한 움직임으로 결정적인 득점 기회를 창출했다. 그러나 토트넘은 전반 31분 선제골을 내주며 끌려갔다. 이후 전반 43분에도 라두 드라구신의 결정적인 실수로 두 번째 골까지 내줬다.\n",
      "\n",
      "포스테코글루 감독 입장에서는 후반 추격이 시급했다. 후반 23분 로드리고 벤탄쿠르의 추격골이 나왔다. 끝내 1-2로 추격의 불씨를 되살린 토트넘이었다. 포스테코글루 감독은 지난 빌라전과는 다른 선택을 했다. 손흥민을 빼지 않은 것. 계속해서 좋은 모습을 보여준 손흥민을 필두로 균형을 잡겠다는 의도였다. 결국 손흥민은 풀타임을 소화했지만, 토트넘은 1-2 충격패를 맞았다.\n",
      "\n",
      "Chunk 4:이를 두고 많은 비판이 이어졌다. 포스테코글루 감독이 먼저 대표팀 측에 손흥민 체력 관리를 요청했다는 의미는, 그만큼 손흥민의 몸이 완벽하지 않다는 해석으로 이어진다. 그러나 입스위치전 추격이 시급해지자 포스테코글루 감독은 손흥민을 빼지 않았다. 결국 소속팀에서의 기용을 위해 대표팀 측에 체력 관리를 요청한 것이 아니냐는 의혹까지 제기됐다. 결과적으로 입스위치전 포스테코글루 감독이 보여준 태도는 본인이 말하던 '대표팀 존중'과는 다소 거리가 먼 모습이었다.\n",
      "\n",
      "\n",
      "\n",
      "(서울=연합뉴스) 김경윤 기자 = 문화체육관광부(이하 문체부) 고위 관계자는 11일 이기흥 대한체육회장 직무 정지 배경에 관해 \"차기 대한체육회장 선거와는 별개의 문제\"라고 선을 그었다.\n",
      "\n",
      "아울러 \"직무 정지를 하지 않으면 오히려 법률 위반 행위를 방조한 것이 될 수 있는 상황\"이라고 설명했다.\n",
      "\n",
      "문체부는 이날 국회에서 열린 문화체육관광위원회 전체회의 직후 보도자료를 통해 이기흥 회장에게 직무 정지를 통보했다고 밝혔다.\n",
      "\n",
      "Chunk 5:문체부는 이날 국회에서 열린 문화체육관광위원회 전체회의 직후 보도자료를 통해 이기흥 회장에게 직무 정지를 통보했다고 밝혔다.\n",
      "\n",
      "이 회장은 국무조정실 정부합동 공직복무점검단으로부터 직원 부정 채용, 물품 후원요구, 후원 물품의 사적 사용 등의 사유로 수사 의뢰된 상태다.\n",
      "\n",
      "문체부 관계자는 \"스포츠윤리센터, 국무조정실은 이기흥 회장과 관련한 다수의 건을 수사 의뢰했다\"며 \"공공기관의 운영에 관한 법률에 따르면 문체부는 비위행위로 수사를 받는 산하기관장의 직무를 정지시킬 수 있다\"고 설명했다.\n",
      "\n",
      "이 관계자는 \"문체부는 과거 비위 행위로 수사를 받는 공공기관장의 직무를 정지한 사례가 있다\"면서 \"이번 조처도 법률에 기초한 것\"이라고 강조했다.\n",
      "\n",
      "\n",
      "국감 출석한 이기흥 대한체육회장\n",
      "(서울=연합뉴스) 신준희 기자 = 이기흥 대한체육회장이 22일 국회에서 열린 문화체육관광위원회 국정감사에 출석, 의원 질의를 듣고 있다. 2024.10.22 hama@yna.co.kr\n",
      "\n",
      "Chunk 6:이기흥 회장은 직무 정지 상태에서도 내년 1월 14일에 열리는 제42대 대한체육회장 선거에 나설 수 있다.\n",
      "\n",
      "후보등록기간은 다음 달 24일부터 25일까지다.\n",
      "\n",
      "이기흥 회장이 12일 체육회 스포츠공정위원회의 3연임 최종심사를 통과해 차기 회장 선거에 출마한다면, 정관에 따라 직무 정지 상태로 입후보해야 한다.\n",
      "\n",
      "문체부의 이번 조처로 약 한 달 먼저 이 회장의 직무가 정지됐다.\n",
      "\n",
      "문체부 관계자는 '이기흥 회장이 선거에 출마할 경우 어차피 직무 정지에 들어갈 예정이어서 이번 조처가 실효성이 떨어질 것 같다'는 말에 \"대한체육회장 선거와는 별개의 행정 조치\"라며 \"규정된 법률에 따라 행한 것이라고 보면 된다\"고 거푸 강조했다.\n",
      "\n",
      "아울러 \"대한체육회장 선거에 영향을 미치면 선거 개입이 된다\"며 \"이번 조처가 선거에 영향을 미칠 수도 없다\"고 말했다.\n",
      "\n",
      "Chunk 7:아울러 \"대한체육회장 선거에 영향을 미치면 선거 개입이 된다\"며 \"이번 조처가 선거에 영향을 미칠 수도 없다\"고 말했다.\n",
      "\n",
      "\n",
      "메이저리그(MLB) 진출을 선언한 일본의 괴물 투수 사사키 로키에 대해 뜨거운 관심이 이어지고 있다. 하지만 쏟아지는 관심과는 달리, 사사키의 행선지는 이미 정해졌다는 소식이 들려왔다. 그 팀이란 바로 LA 다저스다.\n",
      "\n",
      "미국 ‘뉴욕 포스트’는 11일 사사키의 행선지 예상과 함께 댈러스 카이클과의 전화 인터뷰 내용을 공개했다. 휴스턴 애스트로스에서 뛰던 2015년 232이닝 20승8패 평균자책점 2.48의 뛰어난 성적으로 아메리칸리그(AL) 사이영상을 수상하기도 했던 카이클은 이후 하향세를 탔고, 올해는 시즌 중반부터 지바 롯데에 합류, 사사키와 함께했다.\n",
      "\n",
      "Chunk 8:카이클은 이 전화 인터뷰에서 사사키의 행선지에 대한 중요한 발언을 남겼다. 바로 사사키가 다저스로 간다는 것이었다. 카이클은 “사사키가 다저스와 이미 계약을 끝냈다는 소문을 들었다”고 전했다. 다만 어디까지나 ‘풍문’을 들었다는 것으로, 카이클은 곧바로 “다저스가 사사키를 위한 계획이 있다는 말을 들었다. 만약 내가 라스베이거스의 도박사라면 다저스에 한 표를 던지겠으나, 난 사실을 정확하게 알지 못한다”고 덧붙였다.\n",
      "\n",
      "사사키의 행선지로는 다저스를 포함해 뉴욕 양키스, 뉴욕 메츠 같은 ‘빅마켓’ 팀들이 주로 거론되고 있다. 샌디에이고 파드리스 역시 후보군에 속해 있다.\n",
      "\n",
      "\n",
      "사사키 로키. 게티이미지코리아\n",
      "\n",
      "Chunk 9:사사키 로키. 게티이미지코리아\n",
      "\n",
      "\n",
      "\n",
      "카이클은 사사키가 다저스로 갈 것 같은 이유로 ‘친숙함’을 꼽았다. 카이클은 “일본은 아침마다 TV에 다저스가 나온다. 일본에서 몇 사람들이 양키스 모자를 쓰는 것을 봤지만, 대부분 다저스의 ‘D’가 그려진 티셔츠와 모자를 갖고 있었다”고 했다. 다저스에는 야마모토 요시노부, 오타니 쇼헤이 같은 일본 선수들이 뛰고 있어 사사키가 적응하기에 훨씬 수월하다.\n",
      "\n",
      "최고 구속 165㎞에 일본프로야구(NPB) 역대 최연소 퍼펙트게임 기록까지 세운 사사키의 약점은 내구성이다. 데뷔 후 단 한 번도 규정이닝을 채운적이 없는데다 최근 몇 년은 잦은 부상에 시달렸다. 하지만 카이클은 선수 평가의 대표적인 기준인 20-80 스케일에서 패스트볼 70점, 스플리터 65~70점, 슬라이더 70점 등을 부여하며 굉장한 호평을 했다. 카이클은 “난 누군가를 평가하는데 상당히 까다로운 사람이다. 하지만 사사키는 이제 겨우 23살”이라며 잠재력을 높게 평가했다.\n",
      "\n",
      "Chunk 10:사사키 로키. 연합뉴스\n",
      "\n"
     ]
    }
   ],
   "source": [
    "from langchain_text_splitters import RecursiveCharacterTextSplitter\n",
    "from langchain.docstore.document import Document\n",
    "\n",
    "# 텍스트 파일 경로 설정\n",
    "file_path = \"data/data.txt\"\n",
    "\n",
    "# 텍스트 파일을 읽어서 로딩\n",
    "try:\n",
    "    with open(file_path, \"r\", encoding=\"utf-8\") as file:\n",
    "        text = file.read()\n",
    "except FileNotFoundError:\n",
    "    raise Exception(f\"Failed to load text file at path: {file_path}\")\n",
    "\n",
    "# 텍스트를 문서 형태로 변환 (단순히 리스트로 사용 가능)\n",
    "document = Document(page_content=text)\n",
    "\n",
    "# 텍스트를 분할하기 위해 텍스트 분할기 사용\n",
    "text_splitter = RecursiveCharacterTextSplitter(chunk_size=500, chunk_overlap=100)\n",
    "all_splits = text_splitter.split_documents([document])\n",
    "\n",
    "# 결과 출력\n",
    "i = 1\n",
    "for split in all_splits:\n",
    "    print(f\"Chunk {i}:{split.page_content}\\n\")\n",
    "    i += 1\n"
   ]
  },
  {
   "cell_type": "code",
   "execution_count": 4,
   "id": "d5b10860-2e57-4eee-b799-bce73e329608",
   "metadata": {},
   "outputs": [
    {
     "data": {
      "text/plain": [
       "1024"
      ]
     },
     "execution_count": 4,
     "metadata": {},
     "output_type": "execute_result"
    }
   ],
   "source": [
    "# https://ollama.com/blog/embedding-models\n",
    "\n",
    "from langchain_chroma import Chroma\n",
    "from langchain_ollama import OllamaEmbeddings\n",
    "\n",
    "#local_embeddings = OllamaEmbeddings(model=\"nomic-embed-text\") # 이것 사용했는데 잘안됨\n",
    "\n",
    "## ollama pull mxbai-embed-large 다른것 설치함\n",
    "local_embeddings = OllamaEmbeddings(model=\"mxbai-embed-large\") \n",
    "vectorstore = Chroma.from_documents(documents=all_splits, embedding=local_embeddings)\n",
    "\n",
    "embedded_query = local_embeddings.embed_query(\"LangChain 에 대해서 상세히 알려주세요.\")\n",
    "# 임베딩 차원 출력\n",
    "len(embedded_query)"
   ]
  },
  {
   "cell_type": "code",
   "execution_count": 5,
   "id": "11c35257-d78b-41e4-b226-1afb5a413473",
   "metadata": {},
   "outputs": [
    {
     "data": {
      "text/plain": [
       "4"
      ]
     },
     "execution_count": 5,
     "metadata": {},
     "output_type": "execute_result"
    }
   ],
   "source": [
    "question = \"대한체육회장 선거 날짜는?\"\n",
    "#question = \"부상을 당한 사람은 누구인가요?\"\n",
    "docs = vectorstore.similarity_search(question)\n",
    "len(docs)"
   ]
  },
  {
   "cell_type": "code",
   "execution_count": 6,
   "id": "a356e818-aeef-4053-aeed-6fb991e714b4",
   "metadata": {},
   "outputs": [
    {
     "data": {
      "text/plain": [
       "Document(metadata={}, page_content='카이클은 이 전화 인터뷰에서 사사키의 행선지에 대한 중요한 발언을 남겼다. 바로 사사키가 다저스로 간다는 것이었다. 카이클은 “사사키가 다저스와 이미 계약을 끝냈다는 소문을 들었다”고 전했다. 다만 어디까지나 ‘풍문’을 들었다는 것으로, 카이클은 곧바로 “다저스가 사사키를 위한 계획이 있다는 말을 들었다. 만약 내가 라스베이거스의 도박사라면 다저스에 한 표를 던지겠으나, 난 사실을 정확하게 알지 못한다”고 덧붙였다.\\n\\n사사키의 행선지로는 다저스를 포함해 뉴욕 양키스, 뉴욕 메츠 같은 ‘빅마켓’ 팀들이 주로 거론되고 있다. 샌디에이고 파드리스 역시 후보군에 속해 있다.\\n\\n\\n사사키 로키. 게티이미지코리아')"
      ]
     },
     "execution_count": 6,
     "metadata": {},
     "output_type": "execute_result"
    }
   ],
   "source": [
    "docs[0]"
   ]
  },
  {
   "cell_type": "code",
   "execution_count": 7,
   "id": "4f8c4768-4de1-497b-bb8a-4b733d76fca5",
   "metadata": {},
   "outputs": [
    {
     "data": {
      "text/plain": [
       "Document(metadata={}, page_content='사사키 로키. 연합뉴스')"
      ]
     },
     "execution_count": 7,
     "metadata": {},
     "output_type": "execute_result"
    }
   ],
   "source": [
    "docs[1]"
   ]
  },
  {
   "cell_type": "code",
   "execution_count": 8,
   "id": "a0ee7dd2-2954-4d69-9b66-cab2d0834d83",
   "metadata": {},
   "outputs": [
    {
     "data": {
      "text/plain": [
       "Document(metadata={}, page_content='손흥민의 나이와 체력을 고려해, 양측 모두 신중하게 관리하자는 이야기였다. 그러나 포스테코글루 감독은 단 하루 만에 말과 행동이 다른 모습을 보였다. 손흥민은 입스위치전 선발 출전했다. 손흥민은 전반 초반부터 활발한 움직임으로 결정적인 득점 기회를 창출했다. 그러나 토트넘은 전반 31분 선제골을 내주며 끌려갔다. 이후 전반 43분에도 라두 드라구신의 결정적인 실수로 두 번째 골까지 내줬다.\\n\\n포스테코글루 감독 입장에서는 후반 추격이 시급했다. 후반 23분 로드리고 벤탄쿠르의 추격골이 나왔다. 끝내 1-2로 추격의 불씨를 되살린 토트넘이었다. 포스테코글루 감독은 지난 빌라전과는 다른 선택을 했다. 손흥민을 빼지 않은 것. 계속해서 좋은 모습을 보여준 손흥민을 필두로 균형을 잡겠다는 의도였다. 결국 손흥민은 풀타임을 소화했지만, 토트넘은 1-2 충격패를 맞았다.')"
      ]
     },
     "execution_count": 8,
     "metadata": {},
     "output_type": "execute_result"
    }
   ],
   "source": [
    "docs[2]"
   ]
  },
  {
   "cell_type": "code",
   "execution_count": 9,
   "id": "bf5b494c-b7f3-4f14-86a6-2ba5775cd0ef",
   "metadata": {},
   "outputs": [
    {
     "data": {
      "text/plain": [
       "Document(metadata={}, page_content='이기흥 회장은 직무 정지 상태에서도 내년 1월 14일에 열리는 제42대 대한체육회장 선거에 나설 수 있다.\\n\\n후보등록기간은 다음 달 24일부터 25일까지다.\\n\\n이기흥 회장이 12일 체육회 스포츠공정위원회의 3연임 최종심사를 통과해 차기 회장 선거에 출마한다면, 정관에 따라 직무 정지 상태로 입후보해야 한다.\\n\\n문체부의 이번 조처로 약 한 달 먼저 이 회장의 직무가 정지됐다.\\n\\n문체부 관계자는 \\'이기흥 회장이 선거에 출마할 경우 어차피 직무 정지에 들어갈 예정이어서 이번 조처가 실효성이 떨어질 것 같다\\'는 말에 \"대한체육회장 선거와는 별개의 행정 조치\"라며 \"규정된 법률에 따라 행한 것이라고 보면 된다\"고 거푸 강조했다.\\n\\n아울러 \"대한체육회장 선거에 영향을 미치면 선거 개입이 된다\"며 \"이번 조처가 선거에 영향을 미칠 수도 없다\"고 말했다.')"
      ]
     },
     "execution_count": 9,
     "metadata": {},
     "output_type": "execute_result"
    }
   ],
   "source": [
    "docs[3]"
   ]
  },
  {
   "cell_type": "code",
   "execution_count": 10,
   "id": "f1c1fc29-defe-4867-90bd-8fbb56f47b3e",
   "metadata": {},
   "outputs": [],
   "source": [
    "from langchain_ollama import ChatOllama\n",
    "\n",
    "model = ChatOllama(\n",
    "    model=\"llama3.2:latest\",\n",
    ")"
   ]
  },
  {
   "cell_type": "code",
   "execution_count": 11,
   "id": "8dbd0911-61eb-4a0f-8c2c-faaff8189925",
   "metadata": {},
   "outputs": [
    {
     "data": {
      "text/plain": [
       "'다음 달 24일부터 25일까지이다.'"
      ]
     },
     "execution_count": 11,
     "metadata": {},
     "output_type": "execute_result"
    }
   ],
   "source": [
    "from langchain_core.runnables import RunnablePassthrough\n",
    "from langchain_core.output_parsers import StrOutputParser\n",
    "from langchain_core.prompts import ChatPromptTemplate\n",
    "\n",
    "def format_docs(docs):\n",
    "    return \"\\n\\n\".join(doc.page_content for doc in docs)\n",
    "\n",
    "\n",
    "RAG_TEMPLATE = \"\"\"\n",
    "You are an assistant for question-answering tasks. Use the following pieces of retrieved context to answer the question. If you don't know the answer, just say that you don't know. Use three sentences maximum and keep the answer concise.\n",
    "\n",
    "<context>\n",
    "{context}\n",
    "</context>\n",
    "\n",
    "Answer the following question:\n",
    "\n",
    "{question}\"\"\"\n",
    "\n",
    "rag_prompt = ChatPromptTemplate.from_template(RAG_TEMPLATE)\n",
    "\n",
    "chain = (\n",
    "    RunnablePassthrough.assign(context=lambda input: format_docs(input[\"context\"]))\n",
    "    | rag_prompt\n",
    "    | model\n",
    "    | StrOutputParser()\n",
    ")\n",
    "\n",
    "#question = \"토트넘은 몇위가 되었나요?\"\n",
    "\n",
    "docs = vectorstore.similarity_search(question)\n",
    "\n",
    "# Run\n",
    "chain.invoke({\"context\": docs, \"question\": question})"
   ]
  },
  {
   "cell_type": "code",
   "execution_count": 12,
   "id": "41f7fee4-9e2f-4352-9b5c-af1192613feb",
   "metadata": {},
   "outputs": [],
   "source": [
    "from langchain.vectorstores import FAISS"
   ]
  },
  {
   "cell_type": "code",
   "execution_count": 13,
   "id": "b093a410-3a61-418a-939d-98baafad4e65",
   "metadata": {},
   "outputs": [],
   "source": [
    "vectorstore = FAISS.from_documents(embedding=local_embeddings , documents=all_splits)"
   ]
  },
  {
   "cell_type": "code",
   "execution_count": 14,
   "id": "ca98a083-da25-482f-b124-b48a69655224",
   "metadata": {},
   "outputs": [
    {
     "data": {
      "text/plain": [
       "{'01fb81ad-bb42-4e0b-bcc7-a1e58ba6ce27': Document(metadata={}, page_content=\"앤제 포스테코글루 감독의 말과 행동은 달랐다.\\n\\n토트넘은 10일 오후 11시(한국시간) 영국 런던에 위치한 토트넘 훗스퍼 스타디움에서 열린 2024-25시즌 프리미어리그(PL) 11라운드에서 입스위치 타운에 1-2로 패배했다. 이로써 토트넘은 공식전 2연패에 빠졌고, 리그 10위까지 추락했다. 입스위치는 리그 11경기 만에 첫 승을 얻었다.\\n\\n경기 전 가장 화두에 오른 주제는 '손흥민 몸 상태 관리'였다. 토트넘은 '손흥민 부상'으로 고단한 한 달을 겪었다. 손흥민은 9월 말 유럽축구연맹(UEFA) 유로파리그(UEL) 카라바흐전에서 햄스트링 부상을 당했다. 이후 약 3주간 긴 재활을 거쳐 복귀했지만, 한 경기만에 또 다시 제외됐다. 결국 또 다시 회복기를 거쳐 지난 아스톤 빌라전에서 복귀했다. 포스테코글루 감독은 후반 11분 손흥민을 빼며 그의 몸 상태를 신중하게 관리했다.\"),\n",
       " 'c0f77afb-824f-4833-959f-901804d75e5c': Document(metadata={}, page_content='이후 포스테코글루 감독은 한국 국가대표팀과의 협력을 원했다. 포스테코글루 감독은 글로벌 매체 \\'ESPN\\'과의 인터뷰에서 \"나는 국가대표팀 감독과 그들의 계획에 관여하는 것을 주저하는 편이다. 나 역시 호주 대표팀 감독이었을 때, 구단 감독들이 내게 어떻게 하라고 지시하는 것을 좋아하지 않았다\"며 조심스러운 입장을 밝혔다.\\n\\n이어 포스테코글루 감독은 \"그러나 상호 협력적인 접근이 있을 것이라 생각하고 싶다. 손흥민이 구단과 대표팀에서 최근 어떠한 일정을 겪었는지 함께 살펴보고 있다고 생각한다. 우리는 신체적으로 건강하고 좋은 컨디션인 손흥민이 필요하다. 그래야만 손흥민이 기여할 수 있다. 그러한 맥락에서 나는 구단과 대표팀 모두 긍정적인 결과를 얻을 것이라 확신한다\"고 덧붙였다.'),\n",
       " '325ebab0-17bb-45aa-a692-900b10c65e95': Document(metadata={}, page_content='손흥민의 나이와 체력을 고려해, 양측 모두 신중하게 관리하자는 이야기였다. 그러나 포스테코글루 감독은 단 하루 만에 말과 행동이 다른 모습을 보였다. 손흥민은 입스위치전 선발 출전했다. 손흥민은 전반 초반부터 활발한 움직임으로 결정적인 득점 기회를 창출했다. 그러나 토트넘은 전반 31분 선제골을 내주며 끌려갔다. 이후 전반 43분에도 라두 드라구신의 결정적인 실수로 두 번째 골까지 내줬다.\\n\\n포스테코글루 감독 입장에서는 후반 추격이 시급했다. 후반 23분 로드리고 벤탄쿠르의 추격골이 나왔다. 끝내 1-2로 추격의 불씨를 되살린 토트넘이었다. 포스테코글루 감독은 지난 빌라전과는 다른 선택을 했다. 손흥민을 빼지 않은 것. 계속해서 좋은 모습을 보여준 손흥민을 필두로 균형을 잡겠다는 의도였다. 결국 손흥민은 풀타임을 소화했지만, 토트넘은 1-2 충격패를 맞았다.'),\n",
       " '5e9be682-4bf7-42d3-8318-e11414ddddec': Document(metadata={}, page_content='이를 두고 많은 비판이 이어졌다. 포스테코글루 감독이 먼저 대표팀 측에 손흥민 체력 관리를 요청했다는 의미는, 그만큼 손흥민의 몸이 완벽하지 않다는 해석으로 이어진다. 그러나 입스위치전 추격이 시급해지자 포스테코글루 감독은 손흥민을 빼지 않았다. 결국 소속팀에서의 기용을 위해 대표팀 측에 체력 관리를 요청한 것이 아니냐는 의혹까지 제기됐다. 결과적으로 입스위치전 포스테코글루 감독이 보여준 태도는 본인이 말하던 \\'대표팀 존중\\'과는 다소 거리가 먼 모습이었다.\\n\\n\\n\\n(서울=연합뉴스) 김경윤 기자 = 문화체육관광부(이하 문체부) 고위 관계자는 11일 이기흥 대한체육회장 직무 정지 배경에 관해 \"차기 대한체육회장 선거와는 별개의 문제\"라고 선을 그었다.\\n\\n아울러 \"직무 정지를 하지 않으면 오히려 법률 위반 행위를 방조한 것이 될 수 있는 상황\"이라고 설명했다.\\n\\n문체부는 이날 국회에서 열린 문화체육관광위원회 전체회의 직후 보도자료를 통해 이기흥 회장에게 직무 정지를 통보했다고 밝혔다.'),\n",
       " '78c4c5bd-92b6-4e34-9f9b-99f62a3e5de2': Document(metadata={}, page_content='문체부는 이날 국회에서 열린 문화체육관광위원회 전체회의 직후 보도자료를 통해 이기흥 회장에게 직무 정지를 통보했다고 밝혔다.\\n\\n이 회장은 국무조정실 정부합동 공직복무점검단으로부터 직원 부정 채용, 물품 후원요구, 후원 물품의 사적 사용 등의 사유로 수사 의뢰된 상태다.\\n\\n문체부 관계자는 \"스포츠윤리센터, 국무조정실은 이기흥 회장과 관련한 다수의 건을 수사 의뢰했다\"며 \"공공기관의 운영에 관한 법률에 따르면 문체부는 비위행위로 수사를 받는 산하기관장의 직무를 정지시킬 수 있다\"고 설명했다.\\n\\n이 관계자는 \"문체부는 과거 비위 행위로 수사를 받는 공공기관장의 직무를 정지한 사례가 있다\"면서 \"이번 조처도 법률에 기초한 것\"이라고 강조했다.\\n\\n\\n국감 출석한 이기흥 대한체육회장\\n(서울=연합뉴스) 신준희 기자 = 이기흥 대한체육회장이 22일 국회에서 열린 문화체육관광위원회 국정감사에 출석, 의원 질의를 듣고 있다. 2024.10.22 hama@yna.co.kr'),\n",
       " '83d116c2-d2e7-4d3c-accf-5a9602a582d4': Document(metadata={}, page_content='이기흥 회장은 직무 정지 상태에서도 내년 1월 14일에 열리는 제42대 대한체육회장 선거에 나설 수 있다.\\n\\n후보등록기간은 다음 달 24일부터 25일까지다.\\n\\n이기흥 회장이 12일 체육회 스포츠공정위원회의 3연임 최종심사를 통과해 차기 회장 선거에 출마한다면, 정관에 따라 직무 정지 상태로 입후보해야 한다.\\n\\n문체부의 이번 조처로 약 한 달 먼저 이 회장의 직무가 정지됐다.\\n\\n문체부 관계자는 \\'이기흥 회장이 선거에 출마할 경우 어차피 직무 정지에 들어갈 예정이어서 이번 조처가 실효성이 떨어질 것 같다\\'는 말에 \"대한체육회장 선거와는 별개의 행정 조치\"라며 \"규정된 법률에 따라 행한 것이라고 보면 된다\"고 거푸 강조했다.\\n\\n아울러 \"대한체육회장 선거에 영향을 미치면 선거 개입이 된다\"며 \"이번 조처가 선거에 영향을 미칠 수도 없다\"고 말했다.'),\n",
       " '474349a1-f7d8-4217-a4e3-c74792b1a401': Document(metadata={}, page_content='아울러 \"대한체육회장 선거에 영향을 미치면 선거 개입이 된다\"며 \"이번 조처가 선거에 영향을 미칠 수도 없다\"고 말했다.\\n\\n\\n메이저리그(MLB) 진출을 선언한 일본의 괴물 투수 사사키 로키에 대해 뜨거운 관심이 이어지고 있다. 하지만 쏟아지는 관심과는 달리, 사사키의 행선지는 이미 정해졌다는 소식이 들려왔다. 그 팀이란 바로 LA 다저스다.\\n\\n미국 ‘뉴욕 포스트’는 11일 사사키의 행선지 예상과 함께 댈러스 카이클과의 전화 인터뷰 내용을 공개했다. 휴스턴 애스트로스에서 뛰던 2015년 232이닝 20승8패 평균자책점 2.48의 뛰어난 성적으로 아메리칸리그(AL) 사이영상을 수상하기도 했던 카이클은 이후 하향세를 탔고, 올해는 시즌 중반부터 지바 롯데에 합류, 사사키와 함께했다.'),\n",
       " 'bf242570-5174-40e4-8dac-ca8014d9f296': Document(metadata={}, page_content='카이클은 이 전화 인터뷰에서 사사키의 행선지에 대한 중요한 발언을 남겼다. 바로 사사키가 다저스로 간다는 것이었다. 카이클은 “사사키가 다저스와 이미 계약을 끝냈다는 소문을 들었다”고 전했다. 다만 어디까지나 ‘풍문’을 들었다는 것으로, 카이클은 곧바로 “다저스가 사사키를 위한 계획이 있다는 말을 들었다. 만약 내가 라스베이거스의 도박사라면 다저스에 한 표를 던지겠으나, 난 사실을 정확하게 알지 못한다”고 덧붙였다.\\n\\n사사키의 행선지로는 다저스를 포함해 뉴욕 양키스, 뉴욕 메츠 같은 ‘빅마켓’ 팀들이 주로 거론되고 있다. 샌디에이고 파드리스 역시 후보군에 속해 있다.\\n\\n\\n사사키 로키. 게티이미지코리아'),\n",
       " 'e8feb723-e73d-407b-b9f6-9d14bd992dd7': Document(metadata={}, page_content='사사키 로키. 게티이미지코리아\\n\\n\\n\\n카이클은 사사키가 다저스로 갈 것 같은 이유로 ‘친숙함’을 꼽았다. 카이클은 “일본은 아침마다 TV에 다저스가 나온다. 일본에서 몇 사람들이 양키스 모자를 쓰는 것을 봤지만, 대부분 다저스의 ‘D’가 그려진 티셔츠와 모자를 갖고 있었다”고 했다. 다저스에는 야마모토 요시노부, 오타니 쇼헤이 같은 일본 선수들이 뛰고 있어 사사키가 적응하기에 훨씬 수월하다.\\n\\n최고 구속 165㎞에 일본프로야구(NPB) 역대 최연소 퍼펙트게임 기록까지 세운 사사키의 약점은 내구성이다. 데뷔 후 단 한 번도 규정이닝을 채운적이 없는데다 최근 몇 년은 잦은 부상에 시달렸다. 하지만 카이클은 선수 평가의 대표적인 기준인 20-80 스케일에서 패스트볼 70점, 스플리터 65~70점, 슬라이더 70점 등을 부여하며 굉장한 호평을 했다. 카이클은 “난 누군가를 평가하는데 상당히 까다로운 사람이다. 하지만 사사키는 이제 겨우 23살”이라며 잠재력을 높게 평가했다.'),\n",
       " '4d57c27e-b731-48f7-81e9-26312226bcda': Document(metadata={}, page_content='사사키 로키. 연합뉴스')}"
      ]
     },
     "execution_count": 14,
     "metadata": {},
     "output_type": "execute_result"
    }
   ],
   "source": [
    "vectorstore.docstore._dict"
   ]
  },
  {
   "cell_type": "code",
   "execution_count": 15,
   "id": "1bc6d260-c3d1-41af-b2fb-955ffe4fb8d9",
   "metadata": {},
   "outputs": [
    {
     "data": {
      "text/plain": [
       "4"
      ]
     },
     "execution_count": 15,
     "metadata": {},
     "output_type": "execute_result"
    }
   ],
   "source": [
    "docs = vectorstore.similarity_search(question)\n",
    "len(docs)"
   ]
  },
  {
   "cell_type": "code",
   "execution_count": 16,
   "id": "ff10355c-e3cb-4978-8ba9-8e264c29743e",
   "metadata": {},
   "outputs": [
    {
     "name": "stdout",
     "output_type": "stream",
     "text": [
      "page_content='카이클은 이 전화 인터뷰에서 사사키의 행선지에 대한 중요한 발언을 남겼다. 바로 사사키가 다저스로 간다는 것이었다. 카이클은 “사사키가 다저스와 이미 계약을 끝냈다는 소문을 들었다”고 전했다. 다만 어디까지나 ‘풍문’을 들었다는 것으로, 카이클은 곧바로 “다저스가 사사키를 위한 계획이 있다는 말을 들었다. 만약 내가 라스베이거스의 도박사라면 다저스에 한 표를 던지겠으나, 난 사실을 정확하게 알지 못한다”고 덧붙였다.\n",
      "\n",
      "사사키의 행선지로는 다저스를 포함해 뉴욕 양키스, 뉴욕 메츠 같은 ‘빅마켓’ 팀들이 주로 거론되고 있다. 샌디에이고 파드리스 역시 후보군에 속해 있다.\n",
      "\n",
      "\n",
      "사사키 로키. 게티이미지코리아'\n",
      "----\n",
      "page_content='사사키 로키. 연합뉴스'\n",
      "----\n",
      "page_content='손흥민의 나이와 체력을 고려해, 양측 모두 신중하게 관리하자는 이야기였다. 그러나 포스테코글루 감독은 단 하루 만에 말과 행동이 다른 모습을 보였다. 손흥민은 입스위치전 선발 출전했다. 손흥민은 전반 초반부터 활발한 움직임으로 결정적인 득점 기회를 창출했다. 그러나 토트넘은 전반 31분 선제골을 내주며 끌려갔다. 이후 전반 43분에도 라두 드라구신의 결정적인 실수로 두 번째 골까지 내줬다.\n",
      "\n",
      "포스테코글루 감독 입장에서는 후반 추격이 시급했다. 후반 23분 로드리고 벤탄쿠르의 추격골이 나왔다. 끝내 1-2로 추격의 불씨를 되살린 토트넘이었다. 포스테코글루 감독은 지난 빌라전과는 다른 선택을 했다. 손흥민을 빼지 않은 것. 계속해서 좋은 모습을 보여준 손흥민을 필두로 균형을 잡겠다는 의도였다. 결국 손흥민은 풀타임을 소화했지만, 토트넘은 1-2 충격패를 맞았다.'\n",
      "----\n",
      "page_content='이기흥 회장은 직무 정지 상태에서도 내년 1월 14일에 열리는 제42대 대한체육회장 선거에 나설 수 있다.\n",
      "\n",
      "후보등록기간은 다음 달 24일부터 25일까지다.\n",
      "\n",
      "이기흥 회장이 12일 체육회 스포츠공정위원회의 3연임 최종심사를 통과해 차기 회장 선거에 출마한다면, 정관에 따라 직무 정지 상태로 입후보해야 한다.\n",
      "\n",
      "문체부의 이번 조처로 약 한 달 먼저 이 회장의 직무가 정지됐다.\n",
      "\n",
      "문체부 관계자는 '이기흥 회장이 선거에 출마할 경우 어차피 직무 정지에 들어갈 예정이어서 이번 조처가 실효성이 떨어질 것 같다'는 말에 \"대한체육회장 선거와는 별개의 행정 조치\"라며 \"규정된 법률에 따라 행한 것이라고 보면 된다\"고 거푸 강조했다.\n",
      "\n",
      "아울러 \"대한체육회장 선거에 영향을 미치면 선거 개입이 된다\"며 \"이번 조처가 선거에 영향을 미칠 수도 없다\"고 말했다.'\n",
      "----\n"
     ]
    }
   ],
   "source": [
    "for doc in docs:\n",
    "    print(doc)\n",
    "    print(\"----\")"
   ]
  },
  {
   "cell_type": "code",
   "execution_count": null,
   "id": "a69df8ae-cf17-4add-b121-914c2dce98ae",
   "metadata": {},
   "outputs": [],
   "source": []
  },
  {
   "cell_type": "code",
   "execution_count": null,
   "id": "c27f2625-ca21-4965-a207-027dd68b50eb",
   "metadata": {},
   "outputs": [],
   "source": []
  }
 ],
 "metadata": {
  "kernelspec": {
   "display_name": "Python 3 (ipykernel)",
   "language": "python",
   "name": "python3"
  },
  "language_info": {
   "codemirror_mode": {
    "name": "ipython",
    "version": 3
   },
   "file_extension": ".py",
   "mimetype": "text/x-python",
   "name": "python",
   "nbconvert_exporter": "python",
   "pygments_lexer": "ipython3",
   "version": "3.12.4"
  }
 },
 "nbformat": 4,
 "nbformat_minor": 5
}
