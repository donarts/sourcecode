{
 "cells": [
  {
   "cell_type": "markdown",
   "id": "58329390",
   "metadata": {},
   "source": [
    " ## MultiClass predict 예제"
   ]
  },
  {
   "cell_type": "markdown",
   "id": "bdf86efd",
   "metadata": {},
   "source": [
    "- notebook : https://github.com/donarts/sourcecode/blob/main/pytorch/06_bert"
   ]
  },
  {
   "cell_type": "code",
   "execution_count": 1,
   "id": "946c1755",
   "metadata": {},
   "outputs": [],
   "source": [
    "from transformers import AutoModelForSequenceClassification\n",
    "from transformers import Trainer\n",
    "from transformers import AutoTokenizer"
   ]
  },
  {
   "cell_type": "code",
   "execution_count": 2,
   "id": "10be658b",
   "metadata": {},
   "outputs": [],
   "source": [
    "import pandas as pd"
   ]
  },
  {
   "cell_type": "code",
   "execution_count": 3,
   "id": "f2c23a48",
   "metadata": {},
   "outputs": [],
   "source": [
    "import torch"
   ]
  },
  {
   "cell_type": "code",
   "execution_count": 4,
   "id": "f6c18d25",
   "metadata": {},
   "outputs": [],
   "source": [
    "import numpy as np"
   ]
  },
  {
   "cell_type": "markdown",
   "id": "9af1aea6",
   "metadata": {},
   "source": [
    "train 과 같은 pretrain된 토크나이저를 준비합니다."
   ]
  },
  {
   "cell_type": "code",
   "execution_count": 5,
   "id": "6c4580cf",
   "metadata": {},
   "outputs": [],
   "source": [
    "pretrained_model_name=\"beomi/kcbert-base\"\n",
    "tokenizer = AutoTokenizer.from_pretrained(\n",
    "    pretrained_model_name\n",
    ")"
   ]
  },
  {
   "cell_type": "markdown",
   "id": "79ec7bec",
   "metadata": {},
   "source": [
    "예제 데이터를 준비하였습니다. 문구는 제가 임의로 만든 문장입니다."
   ]
  },
  {
   "cell_type": "code",
   "execution_count": 6,
   "id": "87711f38",
   "metadata": {},
   "outputs": [],
   "source": [
    "test_data = pd.DataFrame({\"texts\":[\"신선하다.\",\n",
    "                                   \"야이 XX야\",\n",
    "                                   \"행복한 일만 생기길 바랍니다.\",\n",
    "                                   \"까불지 마라\",\n",
    "                                   \"꺼져라\",\n",
    "                                   \"함께해요\"]})"
   ]
  },
  {
   "cell_type": "code",
   "execution_count": 7,
   "id": "f7f25a92",
   "metadata": {},
   "outputs": [
    {
     "data": {
      "text/html": [
       "<div>\n",
       "<style scoped>\n",
       "    .dataframe tbody tr th:only-of-type {\n",
       "        vertical-align: middle;\n",
       "    }\n",
       "\n",
       "    .dataframe tbody tr th {\n",
       "        vertical-align: top;\n",
       "    }\n",
       "\n",
       "    .dataframe thead th {\n",
       "        text-align: right;\n",
       "    }\n",
       "</style>\n",
       "<table border=\"1\" class=\"dataframe\">\n",
       "  <thead>\n",
       "    <tr style=\"text-align: right;\">\n",
       "      <th></th>\n",
       "      <th>texts</th>\n",
       "    </tr>\n",
       "  </thead>\n",
       "  <tbody>\n",
       "    <tr>\n",
       "      <th>0</th>\n",
       "      <td>신선하다.</td>\n",
       "    </tr>\n",
       "    <tr>\n",
       "      <th>1</th>\n",
       "      <td>야이 XX야</td>\n",
       "    </tr>\n",
       "    <tr>\n",
       "      <th>2</th>\n",
       "      <td>행복한 일만 생기길 바랍니다.</td>\n",
       "    </tr>\n",
       "    <tr>\n",
       "      <th>3</th>\n",
       "      <td>까불지 마라</td>\n",
       "    </tr>\n",
       "    <tr>\n",
       "      <th>4</th>\n",
       "      <td>꺼져라</td>\n",
       "    </tr>\n",
       "    <tr>\n",
       "      <th>5</th>\n",
       "      <td>함께해요</td>\n",
       "    </tr>\n",
       "  </tbody>\n",
       "</table>\n",
       "</div>"
      ],
      "text/plain": [
       "              texts\n",
       "0             신선하다.\n",
       "1            야이 XX야\n",
       "2  행복한 일만 생기길 바랍니다.\n",
       "3            까불지 마라\n",
       "4               꺼져라\n",
       "5              함께해요"
      ]
     },
     "execution_count": 7,
     "metadata": {},
     "output_type": "execute_result"
    }
   ],
   "source": [
    "test_data"
   ]
  },
  {
   "cell_type": "code",
   "execution_count": 8,
   "id": "37a2e9d8",
   "metadata": {},
   "outputs": [],
   "source": [
    "tokenized_test_sentences = tokenizer(\n",
    "    list(test_data.texts),\n",
    "    return_tensors=\"pt\",\n",
    "    padding=True,\n",
    "    truncation=True,\n",
    ")"
   ]
  },
  {
   "cell_type": "code",
   "execution_count": 9,
   "id": "83191db5",
   "metadata": {},
   "outputs": [
    {
     "data": {
      "text/plain": [
       "{'input_ids': tensor([[    2, 23645,  8013,    17,     3,     0,     0,     0],\n",
       "        [    2, 12047, 27778,  4144,     3,     0,     0,     0],\n",
       "        [    2, 19165, 14620, 10173,  4583,  9306,    17,     3],\n",
       "        [    2, 14695,  4102,  8879,     3,     0,     0,     0],\n",
       "        [    2, 10809,     3,     0,     0,     0,     0,     0],\n",
       "        [    2,  9158,  8929,     3,     0,     0,     0,     0]]), 'token_type_ids': tensor([[0, 0, 0, 0, 0, 0, 0, 0],\n",
       "        [0, 0, 0, 0, 0, 0, 0, 0],\n",
       "        [0, 0, 0, 0, 0, 0, 0, 0],\n",
       "        [0, 0, 0, 0, 0, 0, 0, 0],\n",
       "        [0, 0, 0, 0, 0, 0, 0, 0],\n",
       "        [0, 0, 0, 0, 0, 0, 0, 0]]), 'attention_mask': tensor([[1, 1, 1, 1, 1, 0, 0, 0],\n",
       "        [1, 1, 1, 1, 1, 0, 0, 0],\n",
       "        [1, 1, 1, 1, 1, 1, 1, 1],\n",
       "        [1, 1, 1, 1, 1, 0, 0, 0],\n",
       "        [1, 1, 1, 0, 0, 0, 0, 0],\n",
       "        [1, 1, 1, 1, 0, 0, 0, 0]])}"
      ]
     },
     "execution_count": 9,
     "metadata": {},
     "output_type": "execute_result"
    }
   ],
   "source": [
    "tokenized_test_sentences"
   ]
  },
  {
   "cell_type": "markdown",
   "id": "3f9a1e58",
   "metadata": {},
   "source": [
    "이 부분이 중요한데, predict는 label이 필요하지 않습니다, 그래서 데이터 로딩하는 부분은 train 부분에서 label 부분을 삭제하고 새로 만들었습니다."
   ]
  },
  {
   "cell_type": "code",
   "execution_count": 10,
   "id": "2862af04",
   "metadata": {},
   "outputs": [],
   "source": [
    "class DataloaderDataset(torch.utils.data.Dataset):\n",
    "    def __init__(self, encodings):\n",
    "        self.encodings = encodings\n",
    "\n",
    "    def __getitem__(self, idx):\n",
    "        item = {key: torch.tensor(val[idx]) for key, val in self.encodings.items()}\n",
    "        return item\n",
    "\n",
    "    def __len__(self):\n",
    "        return len(self.encodings['input_ids'])"
   ]
  },
  {
   "cell_type": "code",
   "execution_count": 11,
   "id": "5811d13a",
   "metadata": {},
   "outputs": [],
   "source": [
    "pred_dataset = DataloaderDataset(tokenized_test_sentences)"
   ]
  },
  {
   "cell_type": "code",
   "execution_count": 12,
   "id": "4b029acf",
   "metadata": {},
   "outputs": [
    {
     "data": {
      "text/plain": [
       "6"
      ]
     },
     "execution_count": 12,
     "metadata": {},
     "output_type": "execute_result"
    }
   ],
   "source": [
    "len(pred_dataset)"
   ]
  },
  {
   "cell_type": "markdown",
   "id": "4f14026a",
   "metadata": {},
   "source": [
    "이전에 finetuning 된 데이터를 load 해줍니다. 이렇게 사용하기위해서 train 마지막에 저장을 했습니다."
   ]
  },
  {
   "cell_type": "code",
   "execution_count": 13,
   "id": "448ba4f1",
   "metadata": {},
   "outputs": [],
   "source": [
    "model_loaded = AutoModelForSequenceClassification.from_pretrained(\"trained_model_hate\")"
   ]
  },
  {
   "cell_type": "code",
   "execution_count": 14,
   "id": "7c8876a3",
   "metadata": {},
   "outputs": [],
   "source": [
    "trainer = Trainer(model = model_loaded)"
   ]
  },
  {
   "cell_type": "markdown",
   "id": "c37e3d9c",
   "metadata": {},
   "source": [
    "아래 코드가 trainer로 predict 하는 코드 입니다."
   ]
  },
  {
   "cell_type": "code",
   "execution_count": 15,
   "id": "8c96769c",
   "metadata": {},
   "outputs": [
    {
     "name": "stderr",
     "output_type": "stream",
     "text": [
      "***** Running Prediction *****\n",
      "  Num examples = 6\n",
      "  Batch size = 8\n",
      "C:\\Users\\jun\\AppData\\Local\\Temp\\ipykernel_18388\\3071759006.py:6: UserWarning: To copy construct from a tensor, it is recommended to use sourceTensor.clone().detach() or sourceTensor.clone().detach().requires_grad_(True), rather than torch.tensor(sourceTensor).\n",
      "  item = {key: torch.tensor(val[idx]) for key, val in self.encodings.items()}\n"
     ]
    },
    {
     "data": {
      "text/html": [
       "\n",
       "    <div>\n",
       "      \n",
       "      <progress value='1' max='1' style='width:300px; height:20px; vertical-align: middle;'></progress>\n",
       "      [1/1 : < :]\n",
       "    </div>\n",
       "    "
      ],
      "text/plain": [
       "<IPython.core.display.HTML object>"
      ]
     },
     "metadata": {},
     "output_type": "display_data"
    }
   ],
   "source": [
    "pred_results = trainer.predict(pred_dataset)"
   ]
  },
  {
   "cell_type": "code",
   "execution_count": 16,
   "id": "fd67d904",
   "metadata": {},
   "outputs": [
    {
     "name": "stdout",
     "output_type": "stream",
     "text": [
      "PredictionOutput(predictions=array([[-3.9400835 ,  2.6692195 , -2.795601  ],\n",
      "       [ 1.0741174 , -3.2787116 , -1.4047624 ],\n",
      "       [-3.7625163 ,  2.8469667 , -2.8889055 ],\n",
      "       [-1.0301749 , -1.3925614 ,  0.11520092],\n",
      "       [ 1.1580232 , -3.2189953 , -1.537382  ],\n",
      "       [-3.730987  ,  2.8836164 , -2.843723  ]], dtype=float32), label_ids=None, metrics={'test_runtime': 2.4029, 'test_samples_per_second': 2.497, 'test_steps_per_second': 0.416})\n"
     ]
    }
   ],
   "source": [
    "print(pred_results)"
   ]
  },
  {
   "cell_type": "code",
   "execution_count": 17,
   "id": "197620e5",
   "metadata": {},
   "outputs": [
    {
     "data": {
      "text/plain": [
       "array([[-3.9400835 ,  2.6692195 , -2.795601  ],\n",
       "       [ 1.0741174 , -3.2787116 , -1.4047624 ],\n",
       "       [-3.7625163 ,  2.8469667 , -2.8889055 ],\n",
       "       [-1.0301749 , -1.3925614 ,  0.11520092],\n",
       "       [ 1.1580232 , -3.2189953 , -1.537382  ],\n",
       "       [-3.730987  ,  2.8836164 , -2.843723  ]], dtype=float32)"
      ]
     },
     "execution_count": 17,
     "metadata": {},
     "output_type": "execute_result"
    }
   ],
   "source": [
    "pred_results.predictions"
   ]
  },
  {
   "cell_type": "markdown",
   "id": "a3d00463",
   "metadata": {},
   "source": [
    "np.argmax로 예측된 값중 가장 큰값을 가져오도록 합니다."
   ]
  },
  {
   "cell_type": "code",
   "execution_count": 18,
   "id": "1d1606fd",
   "metadata": {},
   "outputs": [],
   "source": [
    "predictions = np.argmax(pred_results.predictions, axis=-1)"
   ]
  },
  {
   "cell_type": "code",
   "execution_count": 19,
   "id": "6c4564a8",
   "metadata": {},
   "outputs": [],
   "source": [
    "test_data[\"labels\"]=predictions"
   ]
  },
  {
   "cell_type": "markdown",
   "id": "e81454da",
   "metadata": {},
   "source": [
    "원본 데이터와 예측한 값을 같이 표기해봤습니다. hate 0:[1,0,0], none 1:[0,1,0], offensive 2:[0,0,1]"
   ]
  },
  {
   "cell_type": "code",
   "execution_count": 20,
   "id": "b76efb84",
   "metadata": {},
   "outputs": [],
   "source": [
    "test_data[\"labels\"]=test_data[\"labels\"].replace({1:\"none\",0:\"hate\",2:\"offensive\"})"
   ]
  },
  {
   "cell_type": "code",
   "execution_count": 21,
   "id": "b85b740c",
   "metadata": {},
   "outputs": [
    {
     "data": {
      "text/html": [
       "<div>\n",
       "<style scoped>\n",
       "    .dataframe tbody tr th:only-of-type {\n",
       "        vertical-align: middle;\n",
       "    }\n",
       "\n",
       "    .dataframe tbody tr th {\n",
       "        vertical-align: top;\n",
       "    }\n",
       "\n",
       "    .dataframe thead th {\n",
       "        text-align: right;\n",
       "    }\n",
       "</style>\n",
       "<table border=\"1\" class=\"dataframe\">\n",
       "  <thead>\n",
       "    <tr style=\"text-align: right;\">\n",
       "      <th></th>\n",
       "      <th>texts</th>\n",
       "      <th>labels</th>\n",
       "    </tr>\n",
       "  </thead>\n",
       "  <tbody>\n",
       "    <tr>\n",
       "      <th>0</th>\n",
       "      <td>신선하다.</td>\n",
       "      <td>none</td>\n",
       "    </tr>\n",
       "    <tr>\n",
       "      <th>1</th>\n",
       "      <td>야이 XX야</td>\n",
       "      <td>hate</td>\n",
       "    </tr>\n",
       "    <tr>\n",
       "      <th>2</th>\n",
       "      <td>행복한 일만 생기길 바랍니다.</td>\n",
       "      <td>none</td>\n",
       "    </tr>\n",
       "    <tr>\n",
       "      <th>3</th>\n",
       "      <td>까불지 마라</td>\n",
       "      <td>offensive</td>\n",
       "    </tr>\n",
       "    <tr>\n",
       "      <th>4</th>\n",
       "      <td>꺼져라</td>\n",
       "      <td>hate</td>\n",
       "    </tr>\n",
       "    <tr>\n",
       "      <th>5</th>\n",
       "      <td>함께해요</td>\n",
       "      <td>none</td>\n",
       "    </tr>\n",
       "  </tbody>\n",
       "</table>\n",
       "</div>"
      ],
      "text/plain": [
       "              texts     labels\n",
       "0             신선하다.       none\n",
       "1            야이 XX야       hate\n",
       "2  행복한 일만 생기길 바랍니다.       none\n",
       "3            까불지 마라  offensive\n",
       "4               꺼져라       hate\n",
       "5              함께해요       none"
      ]
     },
     "execution_count": 21,
     "metadata": {},
     "output_type": "execute_result"
    }
   ],
   "source": [
    "test_data"
   ]
  }
 ],
 "metadata": {
  "kernelspec": {
   "display_name": "Python 3 (ipykernel)",
   "language": "python",
   "name": "python3"
  },
  "language_info": {
   "codemirror_mode": {
    "name": "ipython",
    "version": 3
   },
   "file_extension": ".py",
   "mimetype": "text/x-python",
   "name": "python",
   "nbconvert_exporter": "python",
   "pygments_lexer": "ipython3",
   "version": "3.10.10"
  }
 },
 "nbformat": 4,
 "nbformat_minor": 5
}
