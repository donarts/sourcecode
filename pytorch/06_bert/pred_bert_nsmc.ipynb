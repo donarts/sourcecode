{
 "cells": [
  {
   "cell_type": "markdown",
   "id": "58329390",
   "metadata": {},
   "source": [
    " "
   ]
  },
  {
   "cell_type": "markdown",
   "id": "bdf86efd",
   "metadata": {},
   "source": [
    "- notebook : https://github.com/donarts/sourcecode/blob/main/pytorch/06_bert\n",
    "- train : https://swlock.blogspot.com/2023/03/bert-nsmc-pytorch-train.html\n",
    "- predict : https://swlock.blogspot.com/2023/03/bert-nsmc-pytorch-predict.html"
   ]
  },
  {
   "cell_type": "code",
   "execution_count": 1,
   "id": "946c1755",
   "metadata": {},
   "outputs": [],
   "source": [
    "from transformers import AutoModelForSequenceClassification\n",
    "from transformers import Trainer\n",
    "from transformers import AutoTokenizer"
   ]
  },
  {
   "cell_type": "code",
   "execution_count": 2,
   "id": "10be658b",
   "metadata": {},
   "outputs": [],
   "source": [
    "import pandas as pd"
   ]
  },
  {
   "cell_type": "code",
   "execution_count": 3,
   "id": "f2c23a48",
   "metadata": {},
   "outputs": [],
   "source": [
    "import torch"
   ]
  },
  {
   "cell_type": "code",
   "execution_count": 4,
   "id": "f6c18d25",
   "metadata": {},
   "outputs": [],
   "source": [
    "import numpy as np"
   ]
  },
  {
   "cell_type": "code",
   "execution_count": null,
   "id": "f4649806",
   "metadata": {},
   "outputs": [],
   "source": [
    "train 과 같은 pretrain된 토크나이저를 준비합니다."
   ]
  },
  {
   "cell_type": "code",
   "execution_count": 5,
   "id": "6c4580cf",
   "metadata": {},
   "outputs": [],
   "source": [
    "pretrained_model_name=\"beomi/kcbert-base\"\n",
    "tokenizer = AutoTokenizer.from_pretrained(\n",
    "    pretrained_model_name\n",
    ")"
   ]
  },
  {
   "cell_type": "markdown",
   "id": "79ec7bec",
   "metadata": {},
   "source": [
    "예제 데이터를 준비하였습니다. 문구는 nsmc 에 없는 내용으로 제가 임의로 만든 문장입니다."
   ]
  },
  {
   "cell_type": "code",
   "execution_count": 6,
   "id": "87711f38",
   "metadata": {},
   "outputs": [],
   "source": [
    "test_data = pd.DataFrame({\"texts\":[\"이러한 내용을 지금까지 몰랐다니, 정말 다시 보고 싶다.\",\n",
    "                                   \"오 좋은데\",\"이상하다\",\n",
    "                                   \"ㅋㅋ나는 재미있는지 잘모르겠다\",\n",
    "                                   \"오랜만에 굉장히 훌륭한 만남\"]})"
   ]
  },
  {
   "cell_type": "code",
   "execution_count": 7,
   "id": "f7f25a92",
   "metadata": {},
   "outputs": [
    {
     "data": {
      "text/html": [
       "<div>\n",
       "<style scoped>\n",
       "    .dataframe tbody tr th:only-of-type {\n",
       "        vertical-align: middle;\n",
       "    }\n",
       "\n",
       "    .dataframe tbody tr th {\n",
       "        vertical-align: top;\n",
       "    }\n",
       "\n",
       "    .dataframe thead th {\n",
       "        text-align: right;\n",
       "    }\n",
       "</style>\n",
       "<table border=\"1\" class=\"dataframe\">\n",
       "  <thead>\n",
       "    <tr style=\"text-align: right;\">\n",
       "      <th></th>\n",
       "      <th>texts</th>\n",
       "    </tr>\n",
       "  </thead>\n",
       "  <tbody>\n",
       "    <tr>\n",
       "      <th>0</th>\n",
       "      <td>이러한 내용을 지금까지 몰랐다니, 정말 다시 보고 싶다.</td>\n",
       "    </tr>\n",
       "    <tr>\n",
       "      <th>1</th>\n",
       "      <td>오 좋은데</td>\n",
       "    </tr>\n",
       "    <tr>\n",
       "      <th>2</th>\n",
       "      <td>이상하다</td>\n",
       "    </tr>\n",
       "    <tr>\n",
       "      <th>3</th>\n",
       "      <td>ㅋㅋ나는 재미있는지 잘모르겠다</td>\n",
       "    </tr>\n",
       "    <tr>\n",
       "      <th>4</th>\n",
       "      <td>오랜만에 굉장히 훌륭한 만남</td>\n",
       "    </tr>\n",
       "  </tbody>\n",
       "</table>\n",
       "</div>"
      ],
      "text/plain": [
       "                             texts\n",
       "0  이러한 내용을 지금까지 몰랐다니, 정말 다시 보고 싶다.\n",
       "1                            오 좋은데\n",
       "2                             이상하다\n",
       "3                 ㅋㅋ나는 재미있는지 잘모르겠다\n",
       "4                  오랜만에 굉장히 훌륭한 만남"
      ]
     },
     "execution_count": 7,
     "metadata": {},
     "output_type": "execute_result"
    }
   ],
   "source": [
    "test_data"
   ]
  },
  {
   "cell_type": "code",
   "execution_count": 8,
   "id": "37a2e9d8",
   "metadata": {},
   "outputs": [],
   "source": [
    "tokenized_test_sentences = tokenizer(\n",
    "    list(test_data.texts),\n",
    "    return_tensors=\"pt\",\n",
    "    padding=True,\n",
    "    truncation=True,\n",
    ")"
   ]
  },
  {
   "cell_type": "code",
   "execution_count": 9,
   "id": "83191db5",
   "metadata": {},
   "outputs": [
    {
     "data": {
      "text/plain": [
       "{'input_ids': tensor([[    2, 16702, 15443,  9461, 14802,  4198,    15,  8050,  8245,  8198,\n",
       "          8975,    17,     3],\n",
       "        [    2,  2298, 11827,     3,     0,     0,     0,     0,     0,     0,\n",
       "             0,     0,     0],\n",
       "        [    2, 16644,     3,     0,     0,     0,     0,     0,     0,     0,\n",
       "             0,     0,     0],\n",
       "        [    2,  7970,  8862, 10827, 14847,  2483, 11651,  8077,     3,     0,\n",
       "             0,     0,     0],\n",
       "        [    2, 20646, 17611, 13659, 29869,     3,     0,     0,     0,     0,\n",
       "             0,     0,     0]]), 'token_type_ids': tensor([[0, 0, 0, 0, 0, 0, 0, 0, 0, 0, 0, 0, 0],\n",
       "        [0, 0, 0, 0, 0, 0, 0, 0, 0, 0, 0, 0, 0],\n",
       "        [0, 0, 0, 0, 0, 0, 0, 0, 0, 0, 0, 0, 0],\n",
       "        [0, 0, 0, 0, 0, 0, 0, 0, 0, 0, 0, 0, 0],\n",
       "        [0, 0, 0, 0, 0, 0, 0, 0, 0, 0, 0, 0, 0]]), 'attention_mask': tensor([[1, 1, 1, 1, 1, 1, 1, 1, 1, 1, 1, 1, 1],\n",
       "        [1, 1, 1, 1, 0, 0, 0, 0, 0, 0, 0, 0, 0],\n",
       "        [1, 1, 1, 0, 0, 0, 0, 0, 0, 0, 0, 0, 0],\n",
       "        [1, 1, 1, 1, 1, 1, 1, 1, 1, 0, 0, 0, 0],\n",
       "        [1, 1, 1, 1, 1, 1, 0, 0, 0, 0, 0, 0, 0]])}"
      ]
     },
     "execution_count": 9,
     "metadata": {},
     "output_type": "execute_result"
    }
   ],
   "source": [
    "tokenized_test_sentences"
   ]
  },
  {
   "cell_type": "markdown",
   "id": "3f9a1e58",
   "metadata": {},
   "source": [
    "이 부분이 중요한데, predict는 label이 필요하지 않습니다, 그래서 데이터 로딩하는 부분은 train 부분에서 label 부분을 삭제하고 새로 만들었습니다."
   ]
  },
  {
   "cell_type": "code",
   "execution_count": 10,
   "id": "2862af04",
   "metadata": {},
   "outputs": [],
   "source": [
    "class DataloaderDataset(torch.utils.data.Dataset):\n",
    "    def __init__(self, encodings):\n",
    "        self.encodings = encodings\n",
    "\n",
    "    def __getitem__(self, idx):\n",
    "        item = {key: torch.tensor(val[idx]) for key, val in self.encodings.items()}\n",
    "        return item\n",
    "\n",
    "    def __len__(self):\n",
    "        return len(self.encodings['input_ids'])"
   ]
  },
  {
   "cell_type": "code",
   "execution_count": 11,
   "id": "5811d13a",
   "metadata": {},
   "outputs": [],
   "source": [
    "pred_dataset = DataloaderDataset(tokenized_test_sentences)"
   ]
  },
  {
   "cell_type": "code",
   "execution_count": 12,
   "id": "4b029acf",
   "metadata": {},
   "outputs": [
    {
     "data": {
      "text/plain": [
       "5"
      ]
     },
     "execution_count": 12,
     "metadata": {},
     "output_type": "execute_result"
    }
   ],
   "source": [
    "len(pred_dataset)"
   ]
  },
  {
   "cell_type": "markdown",
   "id": "4f14026a",
   "metadata": {},
   "source": [
    "이전에 finetuning 된 데이터를 load 해줍니다. 이렇게 사용하기위해서 train 마지막에 저장을 했습니다."
   ]
  },
  {
   "cell_type": "code",
   "execution_count": 13,
   "id": "448ba4f1",
   "metadata": {},
   "outputs": [],
   "source": [
    "model_loaded = AutoModelForSequenceClassification.from_pretrained(\"trained_model\")"
   ]
  },
  {
   "cell_type": "code",
   "execution_count": 14,
   "id": "7c8876a3",
   "metadata": {},
   "outputs": [],
   "source": [
    "trainer = Trainer(model = model_loaded)"
   ]
  },
  {
   "cell_type": "markdown",
   "id": "c37e3d9c",
   "metadata": {},
   "source": [
    "아래 코드가 trainer로 predict 하는 코드 입니다."
   ]
  },
  {
   "cell_type": "code",
   "execution_count": 15,
   "id": "8c96769c",
   "metadata": {},
   "outputs": [
    {
     "name": "stderr",
     "output_type": "stream",
     "text": [
      "***** Running Prediction *****\n",
      "  Num examples = 5\n",
      "  Batch size = 8\n",
      "C:\\Users\\jun\\AppData\\Local\\Temp\\ipykernel_10724\\3071759006.py:6: UserWarning: To copy construct from a tensor, it is recommended to use sourceTensor.clone().detach() or sourceTensor.clone().detach().requires_grad_(True), rather than torch.tensor(sourceTensor).\n",
      "  item = {key: torch.tensor(val[idx]) for key, val in self.encodings.items()}\n"
     ]
    },
    {
     "data": {
      "text/html": [
       "\n",
       "    <div>\n",
       "      \n",
       "      <progress value='1' max='1' style='width:300px; height:20px; vertical-align: middle;'></progress>\n",
       "      [1/1 : < :]\n",
       "    </div>\n",
       "    "
      ],
      "text/plain": [
       "<IPython.core.display.HTML object>"
      ]
     },
     "metadata": {},
     "output_type": "display_data"
    }
   ],
   "source": [
    "pred_results = trainer.predict(pred_dataset)"
   ]
  },
  {
   "cell_type": "code",
   "execution_count": 16,
   "id": "fd67d904",
   "metadata": {},
   "outputs": [
    {
     "name": "stdout",
     "output_type": "stream",
     "text": [
      "PredictionOutput(predictions=array([[-1.9505684 ,  1.5610104 ],\n",
      "       [-0.6223819 ,  0.6025323 ],\n",
      "       [ 1.6676984 , -2.0425177 ],\n",
      "       [ 0.28711993, -0.69983894],\n",
      "       [-2.316752  ,  1.851989  ]], dtype=float32), label_ids=None, metrics={'test_runtime': 7.1129, 'test_samples_per_second': 0.703, 'test_steps_per_second': 0.141})\n"
     ]
    }
   ],
   "source": [
    "print(pred_results)"
   ]
  },
  {
   "cell_type": "code",
   "execution_count": 17,
   "id": "197620e5",
   "metadata": {},
   "outputs": [
    {
     "data": {
      "text/plain": [
       "array([[-1.9505684 ,  1.5610104 ],\n",
       "       [-0.6223819 ,  0.6025323 ],\n",
       "       [ 1.6676984 , -2.0425177 ],\n",
       "       [ 0.28711993, -0.69983894],\n",
       "       [-2.316752  ,  1.851989  ]], dtype=float32)"
      ]
     },
     "execution_count": 17,
     "metadata": {},
     "output_type": "execute_result"
    }
   ],
   "source": [
    "pred_results.predictions"
   ]
  },
  {
   "cell_type": "markdown",
   "id": "a3d00463",
   "metadata": {},
   "source": [
    "np.argmax로 예측된 값중 가장 큰값을 가져오도록 합니다."
   ]
  },
  {
   "cell_type": "code",
   "execution_count": 18,
   "id": "1d1606fd",
   "metadata": {},
   "outputs": [],
   "source": [
    "predictions = np.argmax(pred_results.predictions, axis=-1)"
   ]
  },
  {
   "cell_type": "code",
   "execution_count": 20,
   "id": "6c4564a8",
   "metadata": {},
   "outputs": [],
   "source": [
    "test_data[\"labels\"]=predictions"
   ]
  },
  {
   "cell_type": "markdown",
   "id": "e81454da",
   "metadata": {},
   "source": [
    "원본 데이터와 예측한 값을 같이 표기해봤습니다. 0은 부정의미이고 1은 긍정 의미입니다."
   ]
  },
  {
   "cell_type": "code",
   "execution_count": 21,
   "id": "b76efb84",
   "metadata": {},
   "outputs": [
    {
     "data": {
      "text/html": [
       "<div>\n",
       "<style scoped>\n",
       "    .dataframe tbody tr th:only-of-type {\n",
       "        vertical-align: middle;\n",
       "    }\n",
       "\n",
       "    .dataframe tbody tr th {\n",
       "        vertical-align: top;\n",
       "    }\n",
       "\n",
       "    .dataframe thead th {\n",
       "        text-align: right;\n",
       "    }\n",
       "</style>\n",
       "<table border=\"1\" class=\"dataframe\">\n",
       "  <thead>\n",
       "    <tr style=\"text-align: right;\">\n",
       "      <th></th>\n",
       "      <th>texts</th>\n",
       "      <th>labels</th>\n",
       "    </tr>\n",
       "  </thead>\n",
       "  <tbody>\n",
       "    <tr>\n",
       "      <th>0</th>\n",
       "      <td>이러한 내용을 지금까지 몰랐다니, 정말 다시 보고 싶다.</td>\n",
       "      <td>1</td>\n",
       "    </tr>\n",
       "    <tr>\n",
       "      <th>1</th>\n",
       "      <td>오 좋은데</td>\n",
       "      <td>1</td>\n",
       "    </tr>\n",
       "    <tr>\n",
       "      <th>2</th>\n",
       "      <td>이상하다</td>\n",
       "      <td>0</td>\n",
       "    </tr>\n",
       "    <tr>\n",
       "      <th>3</th>\n",
       "      <td>ㅋㅋ나는 재미있는지 잘모르겠다</td>\n",
       "      <td>0</td>\n",
       "    </tr>\n",
       "    <tr>\n",
       "      <th>4</th>\n",
       "      <td>오랜만에 굉장히 훌륭한 만남</td>\n",
       "      <td>1</td>\n",
       "    </tr>\n",
       "  </tbody>\n",
       "</table>\n",
       "</div>"
      ],
      "text/plain": [
       "                             texts  labels\n",
       "0  이러한 내용을 지금까지 몰랐다니, 정말 다시 보고 싶다.       1\n",
       "1                            오 좋은데       1\n",
       "2                             이상하다       0\n",
       "3                 ㅋㅋ나는 재미있는지 잘모르겠다       0\n",
       "4                  오랜만에 굉장히 훌륭한 만남       1"
      ]
     },
     "execution_count": 21,
     "metadata": {},
     "output_type": "execute_result"
    }
   ],
   "source": [
    "test_data"
   ]
  }
 ],
 "metadata": {
  "kernelspec": {
   "display_name": "Python 3 (ipykernel)",
   "language": "python",
   "name": "python3"
  },
  "language_info": {
   "codemirror_mode": {
    "name": "ipython",
    "version": 3
   },
   "file_extension": ".py",
   "mimetype": "text/x-python",
   "name": "python",
   "nbconvert_exporter": "python",
   "pygments_lexer": "ipython3",
   "version": "3.10.10"
  }
 },
 "nbformat": 4,
 "nbformat_minor": 5
}
